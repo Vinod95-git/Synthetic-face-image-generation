{
  "nbformat": 4,
  "nbformat_minor": 0,
  "metadata": {
    "colab": {
      "name": "helper.ipynb",
      "provenance": [],
      "collapsed_sections": [],
      "machine_shape": "hm",
      "mount_file_id": "1gf5V9gIkpnsq82Yk_93DWBsGaLlEaD7S",
      "authorship_tag": "ABX9TyPhMWP53MlEaoBrOGZb62DP",
      "include_colab_link": true
    },
    "kernelspec": {
      "name": "python3",
      "display_name": "Python 3"
    },
    "language_info": {
      "name": "python"
    },
    "accelerator": "GPU"
  },
  "cells": [
    {
      "cell_type": "markdown",
      "metadata": {
        "id": "view-in-github",
        "colab_type": "text"
      },
      "source": [
        "<a href=\"https://colab.research.google.com/github/Vinod95-git/Synthetic-face-image-generation/blob/main/main.ipynb\" target=\"_parent\"><img src=\"https://colab.research.google.com/assets/colab-badge.svg\" alt=\"Open In Colab\"/></a>"
      ]
    },
    {
      "cell_type": "code",
      "metadata": {
        "colab": {
          "base_uri": "https://localhost:8080/"
        },
        "id": "79XBgNSTamiB",
        "outputId": "96da3b03-e6cc-4ac8-ab1b-ef74758f09ad"
      },
      "source": [
        "# Mount G-Drive\n",
        "from google.colab import drive\n",
        "drive.mount('/content/drive', force_remount=True)"
      ],
      "execution_count": 1,
      "outputs": [
        {
          "output_type": "stream",
          "text": [
            "Mounted at /content/drive\n"
          ],
          "name": "stdout"
        }
      ]
    },
    {
      "cell_type": "code",
      "metadata": {
        "colab": {
          "base_uri": "https://localhost:8080/"
        },
        "id": "CeAqGJsDat3V",
        "outputId": "0fa6a5ed-9b2b-4aa1-e04b-260c565cca6f"
      },
      "source": [
        "!git clone https://github.com/NVlabs/stylegan2-ada-pytorch.git"
      ],
      "execution_count": 2,
      "outputs": [
        {
          "output_type": "stream",
          "text": [
            "Cloning into 'stylegan2-ada-pytorch'...\n",
            "remote: Enumerating objects: 125, done.\u001b[K\n",
            "remote: Total 125 (delta 0), reused 0 (delta 0), pack-reused 125\u001b[K\n",
            "Receiving objects: 100% (125/125), 1.12 MiB | 22.10 MiB/s, done.\n",
            "Resolving deltas: 100% (55/55), done.\n"
          ],
          "name": "stdout"
        }
      ]
    },
    {
      "cell_type": "code",
      "metadata": {
        "colab": {
          "base_uri": "https://localhost:8080/"
        },
        "id": "QC7UI81oa6AG",
        "outputId": "1a16553a-10a2-477c-8119-49e5189b1759"
      },
      "source": [
        "!pip install ninja"
      ],
      "execution_count": 3,
      "outputs": [
        {
          "output_type": "stream",
          "text": [
            "Collecting ninja\n",
            "\u001b[?25l  Downloading https://files.pythonhosted.org/packages/1d/de/393468f2a37fc2c1dc3a06afc37775e27fde2d16845424141d4da62c686d/ninja-1.10.0.post2-py3-none-manylinux1_x86_64.whl (107kB)\n",
            "\r\u001b[K     |███                             | 10kB 18.6MB/s eta 0:00:01\r\u001b[K     |██████                          | 20kB 19.2MB/s eta 0:00:01\r\u001b[K     |█████████▏                      | 30kB 15.5MB/s eta 0:00:01\r\u001b[K     |████████████▏                   | 40kB 13.9MB/s eta 0:00:01\r\u001b[K     |███████████████▎                | 51kB 8.5MB/s eta 0:00:01\r\u001b[K     |██████████████████▎             | 61kB 7.9MB/s eta 0:00:01\r\u001b[K     |█████████████████████▍          | 71kB 8.8MB/s eta 0:00:01\r\u001b[K     |████████████████████████▍       | 81kB 9.4MB/s eta 0:00:01\r\u001b[K     |███████████████████████████▍    | 92kB 9.7MB/s eta 0:00:01\r\u001b[K     |██████████████████████████████▌ | 102kB 7.0MB/s eta 0:00:01\r\u001b[K     |████████████████████████████████| 112kB 7.0MB/s \n",
            "\u001b[?25hInstalling collected packages: ninja\n",
            "Successfully installed ninja-1.10.0.post2\n"
          ],
          "name": "stdout"
        }
      ]
    },
    {
      "cell_type": "code",
      "metadata": {
        "colab": {
          "base_uri": "https://localhost:8080/"
        },
        "id": "wwNt9W1_a-WS",
        "outputId": "2d358cdc-f471-40ee-d597-b768adbbbaf3"
      },
      "source": [
        "!ls /content/stylegan2-ada-pytorch/"
      ],
      "execution_count": 4,
      "outputs": [
        {
          "output_type": "stream",
          "text": [
            "calc_metrics.py  docker_run.sh\tLICENSE.txt   style_mixing.py\n",
            "dataset_tool.py  docs\t\tmetrics       torch_utils\n",
            "dnnlib\t\t generate.py\tprojector.py  training\n",
            "Dockerfile\t legacy.py\tREADME.md     train.py\n"
          ],
          "name": "stdout"
        }
      ]
    },
    {
      "cell_type": "code",
      "metadata": {
        "colab": {
          "base_uri": "https://localhost:8080/"
        },
        "id": "4-625ydFbCAG",
        "outputId": "03a574e7-436e-409f-9fa3-51f381445396"
      },
      "source": [
        "!python /content/stylegan2-ada-pytorch/generate.py \\\n",
        "    --network=https://nvlabs-fi-cdn.nvidia.com/stylegan2-ada/pretrained/ffhq.pkl \\\n",
        "  --outdir=/content/results --seeds=6600-6625"
      ],
      "execution_count": 5,
      "outputs": [
        {
          "output_type": "stream",
          "text": [
            "Loading networks from \"https://nvlabs-fi-cdn.nvidia.com/stylegan2-ada/pretrained/ffhq.pkl\"...\n",
            "Downloading https://nvlabs-fi-cdn.nvidia.com/stylegan2-ada/pretrained/ffhq.pkl ... done\n",
            "Generating image for seed 6600 (0/26) ...\n",
            "Setting up PyTorch plugin \"bias_act_plugin\"... Done.\n",
            "Setting up PyTorch plugin \"upfirdn2d_plugin\"... Done.\n",
            "Generating image for seed 6601 (1/26) ...\n",
            "Generating image for seed 6602 (2/26) ...\n",
            "Generating image for seed 6603 (3/26) ...\n",
            "Generating image for seed 6604 (4/26) ...\n",
            "Generating image for seed 6605 (5/26) ...\n",
            "Generating image for seed 6606 (6/26) ...\n",
            "Generating image for seed 6607 (7/26) ...\n",
            "Generating image for seed 6608 (8/26) ...\n",
            "Generating image for seed 6609 (9/26) ...\n",
            "Generating image for seed 6610 (10/26) ...\n",
            "Generating image for seed 6611 (11/26) ...\n",
            "Generating image for seed 6612 (12/26) ...\n",
            "Generating image for seed 6613 (13/26) ...\n",
            "Generating image for seed 6614 (14/26) ...\n",
            "Generating image for seed 6615 (15/26) ...\n",
            "Generating image for seed 6616 (16/26) ...\n",
            "Generating image for seed 6617 (17/26) ...\n",
            "Generating image for seed 6618 (18/26) ...\n",
            "Generating image for seed 6619 (19/26) ...\n",
            "Generating image for seed 6620 (20/26) ...\n",
            "Generating image for seed 6621 (21/26) ...\n",
            "Generating image for seed 6622 (22/26) ...\n",
            "Generating image for seed 6623 (23/26) ...\n",
            "Generating image for seed 6624 (24/26) ...\n",
            "Generating image for seed 6625 (25/26) ...\n"
          ],
          "name": "stdout"
        }
      ]
    },
    {
      "cell_type": "code",
      "metadata": {
        "colab": {
          "base_uri": "https://localhost:8080/"
        },
        "id": "K07nmvzLbZ9X",
        "outputId": "6faa3fed-177a-46f7-c635-755efa99c93f"
      },
      "source": [
        "!ls /content/results/"
      ],
      "execution_count": 6,
      "outputs": [
        {
          "output_type": "stream",
          "text": [
            "seed6600.png  seed6606.png  seed6612.png  seed6618.png\tseed6624.png\n",
            "seed6601.png  seed6607.png  seed6613.png  seed6619.png\tseed6625.png\n",
            "seed6602.png  seed6608.png  seed6614.png  seed6620.png\n",
            "seed6603.png  seed6609.png  seed6615.png  seed6621.png\n",
            "seed6604.png  seed6610.png  seed6616.png  seed6622.png\n",
            "seed6605.png  seed6611.png  seed6617.png  seed6623.png\n"
          ],
          "name": "stdout"
        }
      ]
    },
    {
      "cell_type": "code",
      "metadata": {
        "id": "WyYRjLifbc1i"
      },
      "source": [
        "cp /content/results/* \\\n",
        "    /content/drive/MyDrive/Colab Notebooks/"
      ],
      "execution_count": 2,
      "outputs": []
    }
  ]
}