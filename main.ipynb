{
  "nbformat": 4,
  "nbformat_minor": 0,
  "metadata": {
    "colab": {
      "name": "helper.ipynb",
      "provenance": [],
      "collapsed_sections": [],
      "machine_shape": "hm",
      "mount_file_id": "1gf5V9gIkpnsq82Yk_93DWBsGaLlEaD7S",
      "authorship_tag": "ABX9TyPs/2VkiYZOFkrDYvu0tP+Q",
      "include_colab_link": true
    },
    "kernelspec": {
      "name": "python3",
      "display_name": "Python 3"
    },
    "language_info": {
      "name": "python"
    },
    "accelerator": "GPU"
  },
  "cells": [
    {
      "cell_type": "markdown",
      "metadata": {
        "id": "view-in-github",
        "colab_type": "text"
      },
      "source": [
        "<a href=\"https://colab.research.google.com/github/Vinod95-git/Synthetic-face-image-generation/blob/main/main.ipynb\" target=\"_parent\"><img src=\"https://colab.research.google.com/assets/colab-badge.svg\" alt=\"Open In Colab\"/></a>"
      ]
    },
    {
      "cell_type": "code",
      "metadata": {
        "colab": {
          "base_uri": "https://localhost:8080/"
        },
        "id": "79XBgNSTamiB",
        "outputId": "6177ea89-7195-4415-b4ed-428dc1a9e7c3"
      },
      "source": [
        "# Mount G-Drive\n",
        "from google.colab import drive\n",
        "drive.mount('/content/drive', force_remount=True)"
      ],
      "execution_count": 3,
      "outputs": [
        {
          "output_type": "stream",
          "text": [
            "Mounted at /content/drive\n"
          ],
          "name": "stdout"
        }
      ]
    },
    {
      "cell_type": "code",
      "metadata": {
        "colab": {
          "base_uri": "https://localhost:8080/"
        },
        "id": "CeAqGJsDat3V",
        "outputId": "0b885233-dc51-4f75-929b-166603344b72"
      },
      "source": [
        "!git clone https://github.com/NVlabs/stylegan2-ada-pytorch.git"
      ],
      "execution_count": 4,
      "outputs": [
        {
          "output_type": "stream",
          "text": [
            "Cloning into 'stylegan2-ada-pytorch'...\n",
            "remote: Enumerating objects: 125, done.\u001b[K\n",
            "remote: Total 125 (delta 0), reused 0 (delta 0), pack-reused 125\u001b[K\n",
            "Receiving objects: 100% (125/125), 1.12 MiB | 22.49 MiB/s, done.\n",
            "Resolving deltas: 100% (55/55), done.\n"
          ],
          "name": "stdout"
        }
      ]
    },
    {
      "cell_type": "code",
      "metadata": {
        "colab": {
          "base_uri": "https://localhost:8080/"
        },
        "id": "QC7UI81oa6AG",
        "outputId": "5366c377-d2bc-4b7d-a862-79c3c1c40b12"
      },
      "source": [
        "!pip install ninja"
      ],
      "execution_count": 5,
      "outputs": [
        {
          "output_type": "stream",
          "text": [
            "Collecting ninja\n",
            "\u001b[?25l  Downloading https://files.pythonhosted.org/packages/1d/de/393468f2a37fc2c1dc3a06afc37775e27fde2d16845424141d4da62c686d/ninja-1.10.0.post2-py3-none-manylinux1_x86_64.whl (107kB)\n",
            "\r\u001b[K     |███                             | 10kB 20.0MB/s eta 0:00:01\r\u001b[K     |██████                          | 20kB 16.4MB/s eta 0:00:01\r\u001b[K     |█████████▏                      | 30kB 13.9MB/s eta 0:00:01\r\u001b[K     |████████████▏                   | 40kB 13.0MB/s eta 0:00:01\r\u001b[K     |███████████████▎                | 51kB 7.9MB/s eta 0:00:01\r\u001b[K     |██████████████████▎             | 61kB 7.5MB/s eta 0:00:01\r\u001b[K     |█████████████████████▍          | 71kB 8.4MB/s eta 0:00:01\r\u001b[K     |████████████████████████▍       | 81kB 8.8MB/s eta 0:00:01\r\u001b[K     |███████████████████████████▍    | 92kB 9.2MB/s eta 0:00:01\r\u001b[K     |██████████████████████████████▌ | 102kB 6.8MB/s eta 0:00:01\r\u001b[K     |████████████████████████████████| 112kB 6.8MB/s \n",
            "\u001b[?25hInstalling collected packages: ninja\n",
            "Successfully installed ninja-1.10.0.post2\n"
          ],
          "name": "stdout"
        }
      ]
    },
    {
      "cell_type": "code",
      "metadata": {
        "colab": {
          "base_uri": "https://localhost:8080/"
        },
        "id": "wwNt9W1_a-WS",
        "outputId": "2bff7f24-83df-4411-913c-2e7aa0b31275"
      },
      "source": [
        "!ls /content/stylegan2-ada-pytorch/"
      ],
      "execution_count": 6,
      "outputs": [
        {
          "output_type": "stream",
          "text": [
            "calc_metrics.py  docker_run.sh\tLICENSE.txt   style_mixing.py\n",
            "dataset_tool.py  docs\t\tmetrics       torch_utils\n",
            "dnnlib\t\t generate.py\tprojector.py  training\n",
            "Dockerfile\t legacy.py\tREADME.md     train.py\n"
          ],
          "name": "stdout"
        }
      ]
    },
    {
      "cell_type": "code",
      "metadata": {
        "colab": {
          "base_uri": "https://localhost:8080/"
        },
        "id": "4-625ydFbCAG",
        "outputId": "149334ea-a51a-40f3-bc6c-45c4e7109fbe"
      },
      "source": [
        "!python /content/stylegan2-ada-pytorch/generate.py \\\n",
        "    --network=https://nvlabs-fi-cdn.nvidia.com/stylegan2-ada/pretrained/ffhq.pkl \\\n",
        "  --outdir=/content/results --seeds=0-25"
      ],
      "execution_count": 7,
      "outputs": [
        {
          "output_type": "stream",
          "text": [
            "Loading networks from \"https://nvlabs-fi-cdn.nvidia.com/stylegan2-ada/pretrained/ffhq.pkl\"...\n",
            "Downloading https://nvlabs-fi-cdn.nvidia.com/stylegan2-ada/pretrained/ffhq.pkl ... done\n",
            "Generating image for seed 0 (0/26) ...\n",
            "Setting up PyTorch plugin \"bias_act_plugin\"... Done.\n",
            "Setting up PyTorch plugin \"upfirdn2d_plugin\"... Done.\n",
            "Generating image for seed 1 (1/26) ...\n",
            "Generating image for seed 2 (2/26) ...\n",
            "Generating image for seed 3 (3/26) ...\n",
            "Generating image for seed 4 (4/26) ...\n",
            "Generating image for seed 5 (5/26) ...\n",
            "Generating image for seed 6 (6/26) ...\n",
            "Generating image for seed 7 (7/26) ...\n",
            "Generating image for seed 8 (8/26) ...\n",
            "Generating image for seed 9 (9/26) ...\n",
            "Generating image for seed 10 (10/26) ...\n",
            "Generating image for seed 11 (11/26) ...\n",
            "Generating image for seed 12 (12/26) ...\n",
            "Generating image for seed 13 (13/26) ...\n",
            "Generating image for seed 14 (14/26) ...\n",
            "Generating image for seed 15 (15/26) ...\n",
            "Generating image for seed 16 (16/26) ...\n",
            "Generating image for seed 17 (17/26) ...\n",
            "Generating image for seed 18 (18/26) ...\n",
            "Generating image for seed 19 (19/26) ...\n",
            "Generating image for seed 20 (20/26) ...\n",
            "Generating image for seed 21 (21/26) ...\n",
            "Generating image for seed 22 (22/26) ...\n",
            "Generating image for seed 23 (23/26) ...\n",
            "Generating image for seed 24 (24/26) ...\n",
            "Generating image for seed 25 (25/26) ...\n"
          ],
          "name": "stdout"
        }
      ]
    },
    {
      "cell_type": "code",
      "metadata": {
        "colab": {
          "base_uri": "https://localhost:8080/"
        },
        "id": "K07nmvzLbZ9X",
        "outputId": "d3180515-e9c7-4233-fd92-039284027e99"
      },
      "source": [
        "!ls /content/results/"
      ],
      "execution_count": 8,
      "outputs": [
        {
          "output_type": "stream",
          "text": [
            "seed0000.png  seed0006.png  seed0012.png  seed0018.png\tseed0024.png\n",
            "seed0001.png  seed0007.png  seed0013.png  seed0019.png\tseed0025.png\n",
            "seed0002.png  seed0008.png  seed0014.png  seed0020.png\n",
            "seed0003.png  seed0009.png  seed0015.png  seed0021.png\n",
            "seed0004.png  seed0010.png  seed0016.png  seed0022.png\n",
            "seed0005.png  seed0011.png  seed0017.png  seed0023.png\n"
          ],
          "name": "stdout"
        }
      ]
    },
    {
      "cell_type": "code",
      "metadata": {
        "id": "WyYRjLifbc1i"
      },
      "source": [
        "cp /content/results/* \\\n",
        "    /content/drive/MyDrive/Colab Notebooks/"
      ],
      "execution_count": 2,
      "outputs": []
    }
  ]
}